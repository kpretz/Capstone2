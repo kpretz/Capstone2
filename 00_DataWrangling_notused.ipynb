{
 "cells": [
  {
   "cell_type": "code",
   "execution_count": 168,
   "id": "d5ea57c7-3e91-4437-b678-e8515a82687f",
   "metadata": {},
   "outputs": [],
   "source": [
    "import pandas as pd\n",
    "import datetime as dt\n",
    "import numpy as np"
   ]
  },
  {
   "cell_type": "code",
   "execution_count": 169,
   "id": "74403522-471d-47fd-a081-73002b43d0e8",
   "metadata": {},
   "outputs": [
    {
     "name": "stderr",
     "output_type": "stream",
     "text": [
      "/var/folders/k2/8b5d5rd53t38_t4lfc676zsr0000gp/T/ipykernel_43010/378099823.py:3: DtypeWarning: Columns (1,2) have mixed types. Specify dtype option on import or set low_memory=False.\n",
      "  df_flood = pd.read_csv('data/USFD_v1.1.csv',\n"
     ]
    },
    {
     "name": "stdout",
     "output_type": "stream",
     "text": [
      "ID                 int64\n",
      "DATE_BEGIN        object\n",
      "DATE_END          object\n",
      "DURATION         float64\n",
      "LON              float64\n",
      "LAT              float64\n",
      "COUNTRY           object\n",
      "STATE             object\n",
      "LOCATION          object\n",
      "AREA             float64\n",
      "FATALITY         float64\n",
      "DAMAGE           float64\n",
      "SEVERITY         float64\n",
      "SOURCE            object\n",
      "CAUSE             object\n",
      "SOURCE_DB         object\n",
      "SOURCE_ID         object\n",
      "DESCRIPTION       object\n",
      "slope            float64\n",
      "dem              float64\n",
      "LULC             float64\n",
      "DISTANT_RIVER    float64\n",
      "CONT_AREA        float64\n",
      "DEPTH            float64\n",
      "year             float64\n",
      "geometry          object\n",
      "dtype: object\n",
      "id                 int64\n",
      "date_begin        object\n",
      "date_end          object\n",
      "duration         float64\n",
      "lon              float64\n",
      "lat              float64\n",
      "country           object\n",
      "state             object\n",
      "location          object\n",
      "area             float64\n",
      "fatality         float64\n",
      "damage           float64\n",
      "severity         float64\n",
      "source            object\n",
      "cause             object\n",
      "source_db         object\n",
      "source_id         object\n",
      "description       object\n",
      "slope            float64\n",
      "dem              float64\n",
      "lulc             float64\n",
      "distant_river    float64\n",
      "cont_area        float64\n",
      "depth            float64\n",
      "year             float64\n",
      "geometry          object\n",
      "dtype: object\n"
     ]
    }
   ],
   "source": [
    "## import flood data\n",
    "\n",
    "df_flood = pd.read_csv('data/USFD_v1.1.csv', \n",
    "                       dtype={'LOCATION': str, 'SOURCE': str, 'CAUSE': str, 'SOURCE_DB': str, 'SOURCE_ID': str, 'DESCRIPTION': str, 'geometry': str})\n",
    "##check dtypes\n",
    "print(df_flood.dtypes)\n",
    "\n",
    "\n",
    "## make col names lowercase so it's easier to type\n",
    "df_flood.columns = df_flood.columns.str.lower() \n",
    "\n",
    "##\n",
    "\n",
    "\n",
    "\n",
    "##check dtypes\n",
    "print(df_flood.dtypes)"
   ]
  },
  {
   "cell_type": "code",
   "execution_count": 170,
   "id": "bc4dee4d-334e-42c9-ba8c-5bac9675f729",
   "metadata": {},
   "outputs": [
    {
     "name": "stdout",
     "output_type": "stream",
     "text": [
      "1 row(s) have no date info\n"
     ]
    }
   ],
   "source": [
    "## noticed year column missing data, but not date_begin/date_end. how many rows with no date info? \n",
    "print(len(df_flood.loc[df_flood.isna()[['date_begin', 'date_end', 'year']].sum(1) == 3]), 'row(s) have no date info')\n",
    "\n",
    "## only 1, so drop it\n",
    "df_flood.dropna(subset=['date_begin', 'date_end', 'year'], how='all', inplace=True)\n",
    "\n"
   ]
  },
  {
   "cell_type": "code",
   "execution_count": 171,
   "id": "ca3c1977-2f7f-4d72-ab77-8f483bbd1f45",
   "metadata": {},
   "outputs": [
    {
     "name": "stdout",
     "output_type": "stream",
     "text": [
      "there are  0 missing values in the year column\n"
     ]
    }
   ],
   "source": [
    "##get year info from date columns\n",
    "\n",
    "df_flood['year_end'] = [x[0:4] for x in df_flood['date_end'].astype(str)]\n",
    "df_flood['year_begin'] = [x[0:4] for x in df_flood['date_begin'].astype(str)]\n",
    "\n",
    "## if year begin and year end are the same, fill with year\n",
    "df_flood['year'] = df_flood['year'].fillna(df_flood['year_begin'])\n",
    "df_flood['year'] = df_flood['year'].fillna(df_flood['year_end'])\n",
    "\n",
    "print('there are ', df_flood['year'].isna().sum(), 'missing values in the year column')\n",
    "\n",
    "\n",
    "# df_flood['year'].astype(int)"
   ]
  },
  {
   "cell_type": "code",
   "execution_count": 172,
   "id": "2f1f6ee6-e46e-4f24-93bc-5f53f1997e06",
   "metadata": {},
   "outputs": [
    {
     "data": {
      "text/plain": [
       "0         1996.0\n",
       "1         1996.0\n",
       "2         1996.0\n",
       "3         1996.0\n",
       "4         1996.0\n",
       "           ...  \n",
       "698502      2010\n",
       "698503      2010\n",
       "698504      2010\n",
       "698505      2012\n",
       "698506      2012\n",
       "Name: year, Length: 698506, dtype: object"
      ]
     },
     "execution_count": 172,
     "metadata": {},
     "output_type": "execute_result"
    }
   ],
   "source": [
    "df_flood['year']"
   ]
  },
  {
   "cell_type": "markdown",
   "id": "14142e48-185a-490c-937f-e2034a13e13c",
   "metadata": {},
   "source": [
    "This compliation dataset is garbage. Look at each individual dataset more closely and choose better organized subset. "
   ]
  }
 ],
 "metadata": {
  "kernelspec": {
   "display_name": "Python 3 (ipykernel)",
   "language": "python",
   "name": "python3"
  },
  "language_info": {
   "codemirror_mode": {
    "name": "ipython",
    "version": 3
   },
   "file_extension": ".py",
   "mimetype": "text/x-python",
   "name": "python",
   "nbconvert_exporter": "python",
   "pygments_lexer": "ipython3",
   "version": "3.9.6"
  }
 },
 "nbformat": 4,
 "nbformat_minor": 5
}
